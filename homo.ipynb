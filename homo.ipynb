{
 "cells": [
  {
   "cell_type": "code",
   "execution_count": 1,
   "metadata": {},
   "outputs": [
    {
     "name": "stdout",
     "output_type": "stream",
     "text": [
      "Unexpected exception formatting exception. Falling back to standard exception\n"
     ]
    },
    {
     "name": "stderr",
     "output_type": "stream",
     "text": [
      "Traceback (most recent call last):\n",
      "  File \"c:\\Users\\User2\\Desktop\\Python\\Python Dash Streamlit\\venv\\Lib\\site-packages\\IPython\\core\\interactiveshell.py\", line 3577, in run_code\n",
      "  File \"C:\\Users\\User2\\AppData\\Local\\Temp\\ipykernel_10860\\2350803244.py\", line 2, in <module>\n",
      "    import pandas as pd\n",
      "ModuleNotFoundError: No module named 'pandas'\n",
      "\n",
      "During handling of the above exception, another exception occurred:\n",
      "\n",
      "Traceback (most recent call last):\n",
      "  File \"c:\\Users\\User2\\Desktop\\Python\\Python Dash Streamlit\\venv\\Lib\\site-packages\\pygments\\styles\\__init__.py\", line 45, in get_style_by_name\n",
      "ModuleNotFoundError: No module named 'pygments.styles.default'\n",
      "\n",
      "During handling of the above exception, another exception occurred:\n",
      "\n",
      "Traceback (most recent call last):\n",
      "  File \"c:\\Users\\User2\\Desktop\\Python\\Python Dash Streamlit\\venv\\Lib\\site-packages\\IPython\\core\\interactiveshell.py\", line 2168, in showtraceback\n",
      "  File \"c:\\Users\\User2\\Desktop\\Python\\Python Dash Streamlit\\venv\\Lib\\site-packages\\IPython\\core\\ultratb.py\", line 1454, in structured_traceback\n",
      "  File \"c:\\Users\\User2\\Desktop\\Python\\Python Dash Streamlit\\venv\\Lib\\site-packages\\IPython\\core\\ultratb.py\", line 1345, in structured_traceback\n",
      "  File \"c:\\Users\\User2\\Desktop\\Python\\Python Dash Streamlit\\venv\\Lib\\site-packages\\IPython\\core\\ultratb.py\", line 1192, in structured_traceback\n",
      "  File \"c:\\Users\\User2\\Desktop\\Python\\Python Dash Streamlit\\venv\\Lib\\site-packages\\IPython\\core\\ultratb.py\", line 1082, in format_exception_as_a_whole\n",
      "  File \"c:\\Users\\User2\\Desktop\\Python\\Python Dash Streamlit\\venv\\Lib\\site-packages\\IPython\\core\\ultratb.py\", line 1133, in get_records\n",
      "  File \"c:\\Users\\User2\\Desktop\\Python\\Python Dash Streamlit\\venv\\Lib\\site-packages\\pygments\\styles\\__init__.py\", line 47, in get_style_by_name\n",
      "pygments.util.ClassNotFound: Could not find style module 'pygments.styles.default', though it should be builtin.\n"
     ]
    }
   ],
   "source": [
    "# 'dataset' tem os dados de entrada para este script\n",
    "import pandas as pd\n",
    "import numpy as np\n",
    "from IPython.display import display\n",
    "from decimal import Decimal, getcontext\n",
    "\n",
    "\n",
    "\n",
    "file_path= r'C:\\Users\\User2\\Desktop\\Python\\bd.csv'\n",
    "\n",
    "pd.reset_option('display.max_rows') \n",
    "# Criação do dataframe\n",
    "\n",
    "df = pd.read_csv(file_path, delimiter=';', encoding='utf-8')\n",
    "# Ordenar o DataFrame pela coluna 'HOMO' do maior para o menor\n",
    "df = df.sort_values(by='HOMO', ascending=False)\n",
    "\n",
    "# Excluir linhas com índices específicos\n",
    "\n",
    "# [95, 108, 325, 24])\n",
    "\n",
    "df = df.dropna()\n",
    "\n",
    "display(df)\n",
    "\n",
    "print(df)\n",
    "\n",
    "\n",
    "# Tente converter a coluna 'HOMO' para numérico, substituindo erros por NaN\n",
    "\n",
    "df = df.sort_values(by='HOMO', ascending=True)\n",
    "\n",
    "\n",
    "# Exiba o DataFrame\n",
    "\n",
    "\n",
    "display(df)\n"
   ]
  },
  {
   "cell_type": "code",
   "execution_count": null,
   "metadata": {},
   "outputs": [],
   "source": [
    "\n",
    "# Supondo que 'df' já esteja definido e que as colunas 'HOMO' e 'PHDIquartil' existam\n",
    "\n",
    "# Tentar converter a coluna 'HOMO' para numérico, substituindo erros por NaN\n",
    "df['HOMO'] = pd.to_numeric(df['HOMO'])\n",
    "\n",
    "# Calcular os quartis para a coluna 'HOMO', ignorando NaNs\n",
    "q1 = df['HOMO'].quantile(0.25)\n",
    "q2 = df['HOMO'].quantile(0.50)\n",
    "q3 = df['HOMO'].quantile(0.75)\n",
    "\n",
    "# Adicionar coluna de quartis\n",
    "df['HOMO_quartil'] = pd.cut(df['HOMO'], bins=[-float('inf'), q1, q2, q3, float('inf')],\n",
    "                             labels=['Q1', 'Q2', 'Q3', 'Q4'])\n",
    "\n",
    "# Agora, calcular a média da coluna 'HOMO' agrupada pela coluna 'PHDIquartil' e 'HOMO_quartil'\n",
    "quartil_agregado = df.groupby(['PHDIquartil']).agg(\n",
    "    HOMO_media=('HOMO', 'mean'),\n",
    "    HOMO_min=('HOMO','min'),\n",
    "    HOMO_max=('HOMO','max'),  # Calcula a média da coluna 'HOMO'\n",
    "    HOMO_std=('HOMO','std') \n",
    ").reset_index().round(2)  # Reseta o índice\n",
    "\n",
    "# Exibir o DataFrame agregado\n",
    "display(quartil_agregado)\n"
   ]
  },
  {
   "cell_type": "code",
   "execution_count": null,
   "metadata": {},
   "outputs": [],
   "source": [
    "df.to_csv(r'C:\\Users\\User2\\Desktop\\Python Dash Streamlit\\postgres\\Nova pasta (2)\\homoquartil.csv', sep=';', index=False)"
   ]
  }
 ],
 "metadata": {
  "kernelspec": {
   "display_name": "venv",
   "language": "python",
   "name": "python3"
  },
  "language_info": {
   "codemirror_mode": {
    "name": "ipython",
    "version": 3
   },
   "file_extension": ".py",
   "mimetype": "text/x-python",
   "name": "python",
   "nbconvert_exporter": "python",
   "pygments_lexer": "ipython3",
   "version": "3.12.4"
  }
 },
 "nbformat": 4,
 "nbformat_minor": 2
}
